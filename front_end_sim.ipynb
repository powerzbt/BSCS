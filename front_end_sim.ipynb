{
 "cells": [
  {
   "cell_type": "markdown",
   "metadata": {},
   "source": [
    "## Front-end Simulation"
   ]
  },
  {
   "cell_type": "code",
   "execution_count": 87,
   "metadata": {},
   "outputs": [],
   "source": [
    "import numpy as np\n",
    "import simpy\n",
    "from collections import deque\n",
    "import random\n",
    "import matplotlib.pyplot as plt\n",
    "from scipy.special import gamma"
   ]
  },
  {
   "cell_type": "markdown",
   "metadata": {},
   "source": [
    "## Parameter Setting"
   ]
  },
  {
   "cell_type": "code",
   "execution_count": 88,
   "metadata": {},
   "outputs": [],
   "source": [
    "battery_mean = 30  # Mean number of batteries per truck\n",
    "total_trucks = 15\n",
    "truck_load_sizes = [20, 40]\n",
    "\n",
    "sim_duration = 240  \n",
    "arrival_rate = total_trucks / sim_duration"
   ]
  },
  {
   "cell_type": "code",
   "execution_count": 89,
   "metadata": {},
   "outputs": [],
   "source": [
    "env = simpy.Environment()\n",
    "\n",
    "unloading_buffer = simpy.Container(env, capacity=500, init=0)  \n",
    "loading_buffer = simpy.Container(env, capacity=500, init=300)\n",
    "\n",
    "# Maintain a queue to track the number of batteries carried by each truck\n",
    "truck_battery_queue = deque()"
   ]
  },
  {
   "cell_type": "markdown",
   "metadata": {},
   "source": [
    "## Truck Arrival Process"
   ]
  },
  {
   "cell_type": "code",
   "execution_count": 90,
   "metadata": {},
   "outputs": [],
   "source": [
    "def process_truck_arrival(env, unloading_buffer, battery_mean):\n",
    "    truck_size = random.choice(truck_load_sizes)\n",
    "    num_batteries = np.random.poisson(battery_mean)\n",
    "    num_batteries = min(num_batteries, truck_size)\n",
    "    truck_battery_queue.append(num_batteries)\n",
    "    yield unloading_buffer.put(num_batteries)\n",
    "    print(f'Truck (size {truck_size}) arrived with {num_batteries} depleted batteries at {env.now:.2f} minutes')"
   ]
  },
  {
   "cell_type": "markdown",
   "metadata": {},
   "source": [
    "Compound Poisson"
   ]
  },
  {
   "cell_type": "code",
   "execution_count": 91,
   "metadata": {},
   "outputs": [],
   "source": [
    "def truck_arrival_compound_poisson(env, unloading_buffer, battery_mean, arrival_rate):\n",
    "    while True:\n",
    "        yield env.timeout(random.expovariate(arrival_rate))\n",
    "        env.process(process_truck_arrival(env, unloading_buffer, battery_mean))"
   ]
  },
  {
   "cell_type": "markdown",
   "metadata": {},
   "source": [
    "Renewal Process (Weibull Distribution)"
   ]
  },
  {
   "cell_type": "code",
   "execution_count": 92,
   "metadata": {},
   "outputs": [],
   "source": [
    "shape_parameter = 2\n",
    "scale_parameter = battery_mean / gamma(1 + 1/shape_parameter)\n",
    "\n",
    "\n",
    "def truck_arrival_renewal(env, unloading_buffer, battery_mean, scale_parameter, shape_parameter):\n",
    "    while True:\n",
    "        yield env.timeout(random.weibullvariate(scale_parameter, shape_parameter))\n",
    "        env.process(process_truck_arrival(env, unloading_buffer, battery_mean))"
   ]
  },
  {
   "cell_type": "markdown",
   "metadata": {},
   "source": [
    "Scheduled Arrival"
   ]
  },
  {
   "cell_type": "code",
   "execution_count": 93,
   "metadata": {},
   "outputs": [],
   "source": [
    "batch_size = 3  # 5 batches in total\n",
    "batch_interval = 48  # Time between batches in minutes (20 + 28min to discharge), 240 = 48 * 5\n",
    "batch_window = 20  # Time for each batch to arrive \n",
    "\n",
    "def scheduled_batched_arrival(env, unloading_buffer, battery_mean, batch_size, batch_interval):\n",
    "    start_time = 0\n",
    "    while True:\n",
    "        arrival_times = [random.uniform(start_time, start_time + batch_window) for _ in range(batch_size)]\n",
    "        arrival_times.sort()\n",
    "\n",
    "        for arrival_time in arrival_times:\n",
    "            yield env.timeout(arrival_time - env.now)\n",
    "            env.process(process_truck_arrival(env, unloading_buffer, battery_mean))\n",
    "\n",
    "        yield env.timeout(start_time + batch_interval - env.now)\n",
    "        start_time += batch_interval"
   ]
  },
  {
   "cell_type": "markdown",
   "metadata": {},
   "source": [
    "## Processing Functions"
   ]
  },
  {
   "cell_type": "code",
   "execution_count": 94,
   "metadata": {},
   "outputs": [],
   "source": [
    "# Function to process trucks at the loading buffer and charger station\n",
    "def process_truck(env, unloading_buffer, loading_buffer):\n",
    "    while True:\n",
    "        while truck_battery_queue:\n",
    "            num_batteries_needed = truck_battery_queue.popleft() \n",
    "            print(f'Need {num_batteries_needed} batteries.')\n",
    "            \n",
    "            while num_batteries_needed > loading_buffer.level:\n",
    "                # Wait if there are not enough charged batteries in the loading buffer\n",
    "                yield env.timeout(1)\n",
    "                \n",
    "            yield loading_buffer.get(num_batteries_needed)\n",
    "            print(f'Truck loaded with {num_batteries_needed} charged batteries and left at {env.now:.2f} minutes. Now {loading_buffer.level} batteries in the loading buffer.')\n",
    "        \n",
    "        yield env.timeout(1)\n",
    "\n",
    "# Function to periodically add charged batteries to the loading buffer (actually CCS)\n",
    "def replenish_loading_buffer(env, loading_buffer):\n",
    "    while True:\n",
    "        yield env.timeout(10)  # Adjust the time interval for replenishment\n",
    "        num_batteries_added = 10  # Adjust the number of batteries added\n",
    "        yield loading_buffer.put(num_batteries_added)\n",
    "        print(f'Added {num_batteries_added} charged batteries to loading buffer at {env.now:.2f} minutes. Now {loading_buffer.level} batteries in the loading buffer.')\n"
   ]
  },
  {
   "cell_type": "code",
   "execution_count": 95,
   "metadata": {},
   "outputs": [],
   "source": [
    "# Lists to store simulation data for visualization\n",
    "time_points = []\n",
    "loading_buffer_levels = []\n",
    "unloading_buffer_levels = []\n",
    "\n",
    "# Function to update data for visualization\n",
    "def record_data(env, loading_buffer, unloading_buffer):\n",
    "    while True:\n",
    "        time_points.append(env.now)\n",
    "        loading_buffer_levels.append(loading_buffer.level)\n",
    "        unloading_buffer_levels.append(unloading_buffer.level)\n",
    "        yield env.timeout(1)  # Record data every minute\n"
   ]
  },
  {
   "cell_type": "code",
   "execution_count": 96,
   "metadata": {},
   "outputs": [],
   "source": [
    "# Plotting function\n",
    "def plot_buffer_levels(time_points, loading_buffer_levels, unloading_buffer_levels):\n",
    "    plt.figure(figsize=(10, 6))\n",
    "    plt.plot(time_points, loading_buffer_levels, label='Loading Buffer')\n",
    "    plt.plot(time_points, unloading_buffer_levels, label='Unloading Buffer')\n",
    "    plt.xlabel('Time (minutes)')\n",
    "    plt.ylabel('Buffer Level')\n",
    "    plt.legend()\n",
    "    plt.title('Loading and Unloading Buffer Levels Over Time')\n",
    "    plt.grid(True)\n",
    "    plt.show()"
   ]
  },
  {
   "cell_type": "markdown",
   "metadata": {},
   "source": [
    "## Run Environment"
   ]
  },
  {
   "cell_type": "code",
   "execution_count": 97,
   "metadata": {},
   "outputs": [
    {
     "name": "stdout",
     "output_type": "stream",
     "text": [
      "Truck (size 20) arrived with 18 depleted batteries at 0.85 minutes\n",
      "Need 18 batteries.\n",
      "Truck loaded with 18 charged batteries and left at 1.00 minutes. Now 282 batteries in the loading buffer.\n",
      "Truck (size 40) arrived with 31 depleted batteries at 3.98 minutes\n",
      "Need 31 batteries.\n",
      "Truck loaded with 31 charged batteries and left at 4.00 minutes. Now 251 batteries in the loading buffer.\n",
      "Truck (size 40) arrived with 37 depleted batteries at 7.94 minutes\n",
      "Need 37 batteries.\n",
      "Truck loaded with 37 charged batteries and left at 8.00 minutes. Now 214 batteries in the loading buffer.\n",
      "Added 10 charged batteries to loading buffer at 10.00 minutes. Now 224 batteries in the loading buffer.\n",
      "Added 10 charged batteries to loading buffer at 20.00 minutes. Now 234 batteries in the loading buffer.\n",
      "Added 10 charged batteries to loading buffer at 30.00 minutes. Now 244 batteries in the loading buffer.\n",
      "Added 10 charged batteries to loading buffer at 40.00 minutes. Now 254 batteries in the loading buffer.\n",
      "Added 10 charged batteries to loading buffer at 50.00 minutes. Now 264 batteries in the loading buffer.\n",
      "Truck (size 40) arrived with 37 depleted batteries at 50.56 minutes\n",
      "Need 37 batteries.\n",
      "Truck loaded with 37 charged batteries and left at 51.00 minutes. Now 227 batteries in the loading buffer.\n",
      "Truck (size 40) arrived with 27 depleted batteries at 52.34 minutes\n",
      "Need 27 batteries.\n",
      "Truck loaded with 27 charged batteries and left at 53.00 minutes. Now 200 batteries in the loading buffer.\n",
      "Truck (size 40) arrived with 36 depleted batteries at 57.51 minutes\n",
      "Need 36 batteries.\n",
      "Truck loaded with 36 charged batteries and left at 58.00 minutes. Now 164 batteries in the loading buffer.\n",
      "Added 10 charged batteries to loading buffer at 60.00 minutes. Now 174 batteries in the loading buffer.\n",
      "Added 10 charged batteries to loading buffer at 70.00 minutes. Now 184 batteries in the loading buffer.\n",
      "Added 10 charged batteries to loading buffer at 80.00 minutes. Now 194 batteries in the loading buffer.\n",
      "Added 10 charged batteries to loading buffer at 90.00 minutes. Now 204 batteries in the loading buffer.\n",
      "Added 10 charged batteries to loading buffer at 100.00 minutes. Now 214 batteries in the loading buffer.\n",
      "Truck (size 20) arrived with 20 depleted batteries at 100.84 minutes\n",
      "Need 20 batteries.\n",
      "Truck loaded with 20 charged batteries and left at 101.00 minutes. Now 194 batteries in the loading buffer.\n",
      "Truck (size 40) arrived with 28 depleted batteries at 109.08 minutes\n",
      "Need 28 batteries.\n",
      "Added 10 charged batteries to loading buffer at 110.00 minutes. Now 176 batteries in the loading buffer.\n",
      "Truck loaded with 28 charged batteries and left at 110.00 minutes. Now 176 batteries in the loading buffer.\n",
      "Truck (size 20) arrived with 20 depleted batteries at 114.81 minutes\n",
      "Need 20 batteries.\n",
      "Truck loaded with 20 charged batteries and left at 115.00 minutes. Now 156 batteries in the loading buffer.\n",
      "Added 10 charged batteries to loading buffer at 120.00 minutes. Now 166 batteries in the loading buffer.\n",
      "Added 10 charged batteries to loading buffer at 130.00 minutes. Now 176 batteries in the loading buffer.\n",
      "Added 10 charged batteries to loading buffer at 140.00 minutes. Now 186 batteries in the loading buffer.\n",
      "Truck (size 40) arrived with 29 depleted batteries at 148.16 minutes\n",
      "Need 29 batteries.\n",
      "Truck loaded with 29 charged batteries and left at 149.00 minutes. Now 157 batteries in the loading buffer.\n",
      "Added 10 charged batteries to loading buffer at 150.00 minutes. Now 167 batteries in the loading buffer.\n",
      "Truck (size 20) arrived with 20 depleted batteries at 153.33 minutes\n",
      "Need 20 batteries.\n",
      "Truck loaded with 20 charged batteries and left at 154.00 minutes. Now 147 batteries in the loading buffer.\n",
      "Truck (size 40) arrived with 35 depleted batteries at 155.90 minutes\n",
      "Need 35 batteries.\n",
      "Truck loaded with 35 charged batteries and left at 156.00 minutes. Now 112 batteries in the loading buffer.\n",
      "Added 10 charged batteries to loading buffer at 160.00 minutes. Now 122 batteries in the loading buffer.\n",
      "Added 10 charged batteries to loading buffer at 170.00 minutes. Now 132 batteries in the loading buffer.\n",
      "Added 10 charged batteries to loading buffer at 180.00 minutes. Now 142 batteries in the loading buffer.\n",
      "Added 10 charged batteries to loading buffer at 190.00 minutes. Now 152 batteries in the loading buffer.\n",
      "Added 10 charged batteries to loading buffer at 200.00 minutes. Now 162 batteries in the loading buffer.\n",
      "Truck (size 20) arrived with 20 depleted batteries at 201.46 minutes\n",
      "Need 20 batteries.\n",
      "Truck loaded with 20 charged batteries and left at 202.00 minutes. Now 142 batteries in the loading buffer.\n",
      "Truck (size 40) arrived with 29 depleted batteries at 203.05 minutes\n",
      "Need 29 batteries.\n",
      "Truck loaded with 29 charged batteries and left at 204.00 minutes. Now 113 batteries in the loading buffer.\n",
      "Truck (size 40) arrived with 23 depleted batteries at 207.60 minutes\n",
      "Need 23 batteries.\n",
      "Truck loaded with 23 charged batteries and left at 208.00 minutes. Now 90 batteries in the loading buffer.\n",
      "Added 10 charged batteries to loading buffer at 210.00 minutes. Now 100 batteries in the loading buffer.\n",
      "Added 10 charged batteries to loading buffer at 220.00 minutes. Now 110 batteries in the loading buffer.\n",
      "Added 10 charged batteries to loading buffer at 230.00 minutes. Now 120 batteries in the loading buffer.\n",
      "Simulation finished.\n"
     ]
    }
   ],
   "source": [
    "arrival_process = 'scheduled'\n",
    "\n",
    "if arrival_process == 'compound_poisson':\n",
    "    env.process(truck_arrival_compound_poisson(env, unloading_buffer, battery_mean, arrival_rate))\n",
    "elif arrival_process == 'renewal': \n",
    "    env.process(truck_arrival_renewal(env, unloading_buffer, battery_mean, scale_parameter, shape_parameter))\n",
    "elif arrival_process == 'scheduled':\n",
    "    env.process(scheduled_batched_arrival(env, unloading_buffer, battery_mean, batch_size, batch_interval))\n",
    "\n",
    "env.process(process_truck(env, unloading_buffer, loading_buffer))\n",
    "env.process(replenish_loading_buffer(env, loading_buffer))\n",
    "env.process(record_data(env, loading_buffer, unloading_buffer))\n",
    "\n",
    "\n",
    "# Run the simulation\n",
    "env.run(until=sim_duration)\n",
    "\n",
    "print(\"Simulation finished.\"  )"
   ]
  },
  {
   "cell_type": "code",
   "execution_count": 98,
   "metadata": {},
   "outputs": [
    {
     "data": {
      "image/png": "[encoded data removed]",
      "text/plain": [
       "<Figure size 1000x600 with 1 Axes>"
      ]
     },
     "metadata": {},
     "output_type": "display_data"
    }
   ],
   "source": [
    "plot_buffer_levels(time_points, loading_buffer_levels, unloading_buffer_levels)"
   ]
  },
  {
   "cell_type": "code",
   "execution_count": null,
   "metadata": {},
   "outputs": [],
   "source": []
  },
  {
   "cell_type": "code",
   "execution_count": null,
   "metadata": {},
   "outputs": [],
   "source": []
  }
 ],
 "metadata": {
  "kernelspec": {
   "display_name": "Python 3.10.11 ('newenv')",
   "language": "python",
   "name": "python3"
  },
  "language_info": {
   "codemirror_mode": {
    "name": "ipython",
    "version": 3
   },
   "file_extension": ".py",
   "mimetype": "text/x-python",
   "name": "python",
   "nbconvert_exporter": "python",
   "pygments_lexer": "ipython3",
   "version": "3.10.11"
  },
  "orig_nbformat": 4,
  "vscode": {
   "interpreter": {
    "hash": "7cb567b3d908497d903f9ad374af8431fd2b5e0bfd393d0197b2960697f327e5"
   }
  }
 },
 "nbformat": 4,
 "nbformat_minor": 2
}
